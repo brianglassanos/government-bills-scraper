{
 "cells": [
  {
   "cell_type": "code",
   "execution_count": 44,
   "metadata": {},
   "outputs": [
    {
     "name": "stdout",
     "output_type": "stream",
     "text": [
      "The Nickel Boys\n",
      "The Cambridge History of Turkey: Volume 1, Byzantium to Turkey, 1071-1453\n",
      "The Cambridge History of Turkey. Volume 2. The Ottoman Empire as a World Power, 1453-1603\n",
      "Star Trek Star Fleet Technical Manual\n",
      "Fighters over the Fleet: Naval Air Defence from Biplanes to the Cold War\n",
      "Tsushima 1905: Death of a Russian Fleet\n",
      "Ghost Fleet\n",
      "Children of the Fleet\n",
      "Cocoa and Coffee Fermentations\n",
      "The Cambridge History of Turkey, Volume 2: The Ottoman Empire as a World Power, 1453–1603\n",
      "The Fleet at Flood Tide: America at Total War in the Pacific, 1944-1945\n",
      "The Exiled Fleet\n",
      "Taranto 1940: The Fleet Air Arm’s Precursor to Pearl Harbor\n",
      "Britain's Fleet Air Arm in World War II\n",
      "Lost Fleet: Dauntless\n",
      "1434: The Year a Magnificent Chinese Fleet Sailed to Italy and Ignited the Renaissance\n",
      "Agribusiness: Principles of Management\n",
      "This Difficult Individual Ezra Pound (Biography)\n",
      "Killing the Bismarck: Destroying the Pride of Hitler's Fleet\n",
      "Dark Fleet: The Secret Nazi Space Program and the Battle for the Solar System\n",
      "The Cambridge History of Turkey, Volume 4: Turkey in the Modern World\n",
      "Ghost Fleet: A Novel of the Next World War\n",
      "Fleet of Worlds\n",
      "Star Trek Star Fleet Medical Reference Manual (book club edition + extra pages)\n",
      "A Social History of Ottoman Istanbul\n",
      "The Cambridge History of Turkey: Byzantium to Turkey, 1071–1453\n",
      "The Lost Fleet: Relentless\n",
      "Yeasts in Food and Beverages, The Yeast Handbook\n",
      "Star Wars: The Black Fleet Crisis: Before the Storm\n",
      "Building a Dedicated GSM GPS Module Tracking System for Fleet Management : Hardware and Software\n",
      "The British Pacific Fleet (1945-The Royal Navy's Most Powerful Strike Force)\n",
      "Valiant (The Lost Fleet, Book 4)\n",
      "The House Swap\n",
      "Fleet Tactics and Coastal Combat, 2nd Edition\n",
      "The German Fleet at War, 1939-1945\n",
      "Fleet Tactics and Naval Operations\n",
      "Courageous (Lost Fleet Series #3)   \n",
      "The Lost Fleet Beyond the Frontier Dreadnaught\n",
      "Discrete Wavelet Transformations: An Elementary Approach with Applications\n",
      "The Lost Fleet: Beyond the Frontier: Invincible\n",
      "The search for the Japanese fleet : USS Nautilus and the Battle of Midway\n",
      "The Grand Fleet: Warship Design and Development, 1906-1922\n",
      "Sink the Tirpitz 1942-44: The RAF and Fleet Air Arm Duel with Germany's Mighty Battleship\n",
      "Star Wars: The Black Fleet Crisis: Shield of Lies\n",
      "Wavelet Theory: An Elementary Approach with Applications\n",
      "Fleeting\n",
      "Star Wars: The Black Fleet Crisis: Tyrant's Test\n",
      "The Second Wife\n",
      "Fleet Air Arm carrier war : the history of British naval aviation\n",
      "USN Fleet Destroyer Vs Ijn Fleet Submarine: The Pacific 1941-42\n"
     ]
    }
   ],
   "source": [
    "from bs4 import BeautifulSoup\n",
    "import requests\n",
    "\n",
    "def book_search(url):\n",
    "    url = f\"https://u1lib.org/s/{url}?\"\n",
    "    base_site = requests.get(url)\n",
    "    soup = BeautifulSoup(base_site.content, 'html.parser')\n",
    "    ebooks = soup.find_all(\"h3\", attrs={\"itemprop\":\"name\"})\n",
    "    ebooks_list = []\n",
    "    for item in ebooks:\n",
    "        item = item.text.strip(\"\\n\")\n",
    "        ebooks_list.append(item)\n",
    "    return [item for item in ebooks_list]\n",
    "\n",
    "choice = input(\"Choice: \")\n",
    "for item in book_search(choice): \n",
    "    print(item)\n"
   ]
  },
  {
   "cell_type": "code",
   "execution_count": 39,
   "metadata": {},
   "outputs": [
    {
     "name": "stdout",
     "output_type": "stream",
     "text": [
      "How to draw and paint fantasy architecture: from ancient citadels and gothic castles to subterranean palaces and floating fortresses\n",
      "Taboo Adult Fantasy Erotica for Women Short Sex Stories: Daddy Forbidden, Hot Erotic Babysitter, Explicit Family Man\n",
      "100 Great Fantasy Short Short Stories\n",
      "Who's Been Sleeping in Your Head?: The Secret World of Sexual Fantasies\n",
      "Drawing and Painting Fantasy Landscapes and Cityscapes\n",
      "How to Draw Fantasy Art and RPG Maps: Step by Step Cartography for Gamers and Fans\n",
      "The Eye of the World (The Wheel of Time, Book 1)\n",
      "writing fantasy and science fiction (Writing Handbooks S.)\n",
      "How to Write Science Fiction and Fantasy (Genre Writing)\n",
      "Sex Positions for couples: Practical sex tips and techniques to explore your fantasies and sexuality to deepen your relationship\n",
      "The Mind's I - Fantasies and Reflections on Self and Soul\n",
      "Fashion, Faith, and Fantasy in the New Physics of the Universe\n",
      "Gardens of the Moon (The Malazan Book of the Fallen, Vol. 1)\n",
      "Night Shift: A Choose-Your-Own Erotic Fantasy\n",
      "50 Shades of Better Sex: Her Guide to Spicing Up the Relationship, Exploring Fantasies & Introducing BDSM to the Bedroom\n",
      "Parable of the Sower\n",
      "アジアンファンタジーな女の子のキャラクターデザインブック / Asian fantasy girl character design book\n",
      "Writing Monsters and Maniacs: A Masterclass in Genre Fiction for Fantasy, Horror, and Science Fiction\n",
      "Mastering Fantasy Art - Drawing Dynamic Characters  People, Poses, Creatures and More\n",
      "The Eye of the World\n",
      "Amazing Fantasy # 15 - Aug. 1962 - Spiderman Intro\n",
      "Manga Magic: How to Draw and Color Mythical and Fantasy Characters\n",
      "Kingdom of Fantasy\n",
      "The Encyclopedia of Fantasy\n",
      "DragonArt: how to draw fantastic dragons and fantasy creatures\n",
      "Signs of Cupidity: A Fantasy Reverse Harem Story\n",
      "Fantasy Nude Photography: Use Lighting, Posing, and Digital Compositing Techniques to Create Amazing Images\n",
      "Half-Blood Academy 1: Magic Trials: an academy reverse harem fantasy romance\n",
      "The Guide to Writing Fantasy and Science Fiction\n",
      "The Great Hunt (The Wheel of Time, Book 2)\n",
      "The Battle for Crystal Castle (Geronimo Stilton and the Kingdom of Fantasy #13)\n",
      "The Power of Hades: A Fated Mates Fantasy Romance\n",
      "Fantasy Art Book\n",
      "Manga Crash Course Fantasy: How to Draw Anime and Manga, Step-by-Step\n",
      "OtherWorlds: How to Imagine, Paint and Create Epic Scenes of Fantasy\n",
      "Geronimo Stilton and the Kingdom of Fantasy #4: The Dragon Prophecy\n",
      "My Secret Garden: Women's Sexual Fantasies\n",
      "Japanese Erotic Fantasies: Sexual Imagery of the Edo Period\n",
      "Writing Science Fiction, Fantasy & Horror: How to Create Successful Work for Publication (Successful Writing)\n",
      "Hell Beasts: How to Draw Grotesque Fantasy Creatures\n",
      "Bonds of Cupidity: A Fantasy Reverse Harem Story (Heart Hassle Book 2)\n",
      "Dawn: The Worlds of Final Fantasy\n",
      "ImagineFX Issue 151 September 2017 (Fantasy Illustration)\n",
      "Worldbuilding for Fantasy Fans and Authors\n",
      "Erotic Fantasy\n",
      "The Geeky Chef cookbook : unofficial recipes from Doctor Who, game of Thrones, Harry Potter, and more, real-life recipes for your favorite fantasy foods\n",
      "Fantasy Art Genius Guide\n",
      "The Dark Eidolon and other fantasies\n",
      "A Cuckold’s Erotic Tale - The Complete \"My Wife’s Boyfriend Series\": A Story of Cuckolding, Dominance, and MMF Fantasies (Raven Merlot’s Cuckold Erotica Book 15)\n",
      "FINAL FANTASY IX ARTBOOK\n"
     ]
    }
   ],
   "source": [
    "for item in book_search(\"fantasy\")[:100]: print(item)"
   ]
  },
  {
   "cell_type": "code",
   "execution_count": null,
   "metadata": {},
   "outputs": [],
   "source": []
  }
 ],
 "metadata": {
  "interpreter": {
   "hash": "aee8b7b246df8f9039afb4144a1f6fd8d2ca17a180786b69acc140d282b71a49"
  },
  "kernelspec": {
   "display_name": "Python 3.9.5 64-bit",
   "language": "python",
   "name": "python3"
  },
  "language_info": {
   "codemirror_mode": {
    "name": "ipython",
    "version": 3
   },
   "file_extension": ".py",
   "mimetype": "text/x-python",
   "name": "python",
   "nbconvert_exporter": "python",
   "pygments_lexer": "ipython3",
   "version": "3.9.5"
  },
  "orig_nbformat": 4
 },
 "nbformat": 4,
 "nbformat_minor": 2
}
