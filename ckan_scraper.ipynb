{
 "cells": [
  {
   "cell_type": "code",
   "execution_count": 1,
   "metadata": {},
   "outputs": [
    {
     "name": "stdout",
     "output_type": "stream",
     "text": [
      "Megapixel mercury cadmium telluride focal plane arrays for infrared imaging out to 12 microns, Phase I\n",
      "CMS: LiDAR-derived Biomass, Canopy Height and Cover, Sonoma County, California, 2013\n",
      "IHW COMET HALLEY REDUCED SPECTROSCOPIC OBSERVATIONS V1.0\n",
      "Active Control of Tailored Laminates\n",
      "Networked Communications and Speech System for Airspace System Assessments, Phase II\n",
      "Adaptive Intelligent Ventilation Noise Control, Phase II\n",
      "Academy of Program/Project & Engineering Leadership ASK Magazine Past Issues\n",
      "A Data-Driven Framework for Web-Based Telescience and Outreach, Phase I\n",
      "Test of Advanced Fine Water Mist Nozzles in a Representative Spacecraft Atmosphere, Phase I\n",
      "3D High Density mmWave Interconnects, Phase I\n",
      "SATCORPS CERES GEO Edition 4 Meteosat-09 Northern Hemisphere Version 1.2\n",
      "Hydrogen Recovery System, Phase II\n",
      "CASSINI SATURN CIRS TIME-SEQUENTIAL DATA RECORDS V2.0\n",
      "Gazetteer of Planetary Nomenclature\n",
      "ASTEROID LIGHTCURVE DERIVED DATA V15.0\n",
      "Multiscale Modeling of Hall Thrusters, Phase I\n",
      "Meteor Detection and UV Spectral Analysis System, Phase II\n",
      "Airborne Multi-angle Imaging SpectroRadiometer (AirMISR) Data from the Lunar Lake 2000 Campaign\n",
      "IHW COMET IRPOL EDITED REDUCED DATA RECORD GZ V1.0\n",
      "Development of High Contrast Lenslets for Integral Field Spectroscopy\n"
     ]
    }
   ],
   "source": [
    "from bs4 import BeautifulSoup\n",
    "import requests\n",
    "\n",
    "\"\"\"  \n",
    "\n",
    "-- Web Scraper for CKAN datasets --\n",
    "sort parameters: \n",
    "views_recent, metadata_modified, metadata_created title_string, score\n",
    "\n",
    "+asc for ascending order.\n",
    "+desc for descending order.\n",
    "\n",
    "\"\"\"\n",
    "\n",
    "def ckan_datasets(search=None, sort=\"views_recent\", direction=\"desc\"):\n",
    "    url = f\"https://catalog.data.gov/dataset?q={search}&sort={sort}+{direction}\"\n",
    "    base_site = requests.get(url)\n",
    "    soup = BeautifulSoup(base_site.content, 'html.parser')\n",
    "    datasets = soup.find_all(\"h3\", attrs={\"class\":\"dataset-heading\"})\n",
    "    datasets_list = []\n",
    "    for item in datasets:\n",
    "        item = item.text.strip(\"\\n\")\n",
    "        datasets_list.append(item)\n",
    "    return [item for item in datasets_list]\n",
    "\n",
    "in_ = input(\"Search: \")\n",
    "# in_ = \"Greece\"\n",
    "results = [item for item in ckan_datasets(in_)] \n",
    "for i in results: print(i)"
   ]
  },
  {
   "cell_type": "code",
   "execution_count": null,
   "metadata": {},
   "outputs": [],
   "source": []
  },
  {
   "cell_type": "code",
   "execution_count": 22,
   "metadata": {},
   "outputs": [
    {
     "name": "stdout",
     "output_type": "stream",
     "text": [
      "/Developer program\n",
      "CKAN\n",
      "CSV to API\n",
      "DKAN\n",
      "Data Visualization Wizard\n",
      "Database to API\n",
      "Digital Analytics Program (DAP) \n",
      "Esri2Open\n",
      "GeoNode \n",
      "Geoportal Server\n",
      "Home Mortgage Disclosure Act (HMDA) Tools\n",
      "JSON Validator \n",
      "ReVal (Reusable Validation Library)\n",
      "Standard Application Process Pilot- Lessons Learned Report\n",
      "Tabula\n",
      "inventory.data.gov \n",
      "pycsw\n",
      "qu\n"
     ]
    }
   ],
   "source": [
    "url = \"https://resources.data.gov/categories/data-tools/\"\n",
    "base_site = requests.get(url)\n",
    "soup = BeautifulSoup(base_site.content, 'html.parser')\n",
    "datasets = soup.find_all(\"h2\", attrs={\"class\":\"margin-top-0\"})\n",
    "for i in datasets: print(i.text)"
   ]
  },
  {
   "cell_type": "code",
   "execution_count": null,
   "metadata": {},
   "outputs": [],
   "source": []
  }
 ],
 "metadata": {
  "interpreter": {
   "hash": "aee8b7b246df8f9039afb4144a1f6fd8d2ca17a180786b69acc140d282b71a49"
  },
  "kernelspec": {
   "display_name": "Python 3.9.5 64-bit",
   "language": "python",
   "name": "python3"
  },
  "language_info": {
   "codemirror_mode": {
    "name": "ipython",
    "version": 3
   },
   "file_extension": ".py",
   "mimetype": "text/x-python",
   "name": "python",
   "nbconvert_exporter": "python",
   "pygments_lexer": "ipython3",
   "version": "3.9.5"
  },
  "orig_nbformat": 4
 },
 "nbformat": 4,
 "nbformat_minor": 2
}
