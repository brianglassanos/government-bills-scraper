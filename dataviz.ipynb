{
 "cells": [
  {
   "cell_type": "code",
   "execution_count": 1,
   "metadata": {},
   "outputs": [],
   "source": [
    "from bs4 import BeautifulSoup\n",
    "import requests\n",
    "\n",
    "url = \"https://digital.gov/topics/data-visualization/\"\n",
    "base_site = requests.get(url)\n",
    "soup = BeautifulSoup(base_site.content, 'html.parser')"
   ]
  },
  {
   "cell_type": "code",
   "execution_count": 10,
   "metadata": {},
   "outputs": [
    {
     "name": "stdout",
     "output_type": "stream",
     "text": [
      "Involving End Users at All Stages To Create Actionable Science Products for Complex, Real-World Issues\n",
      "A Design Challenge to Improve How School Data is Reported\n",
      "New Options Available to Visualize CDC Data\n",
      "NASA Pulls Together National Data to Sleuth Out Air Traffic Improvement Mysteries\n",
      "The Data Briefing: FINDing Great Global Development Data Visualizations Courtesy of the State Department\n",
      "Modernizing the FCC’s Geospatial Maps\n",
      "Open Data Democratizes Innovation\n",
      "The Data Briefing: Introducing the U.S. Patent and Trademark Office’s New Open Data Portal\n",
      "Worth a Thousand Words? Announcing Ready-to-Go Interactive Graphics with BLS News Releases\n",
      "The Data Briefing: An Interview with USAJOBS on New Changes to Their Data Services\n",
      "Seeing States the Right Way: How to Weigh Data by Population\n",
      "Touring Top Colleges with the Peace Corps\n",
      "The Data Briefing: Does the Federal Government Have an Obligation to Educate Open Data Users?\n",
      "The Data Briefing: Help #HackSuicide This Weekend\n",
      "The Data Briefing: The Open Government Data Revolution Is Just Getting Started\n",
      "The Data Briefing: Surrounded by Fields of Federal Data—U.S. Patent and Trademark Office’s PatentsView\n",
      "Free the Data: FEMA’s New Data Visualization Tool\n",
      "Creating a Social Media Report That Matters\n",
      "As the World Churns: Earthquake Detection via Twitter\n",
      "Visualizing BLS Data to Improve Understanding\n"
     ]
    }
   ],
   "source": [
    "blog_posts = soup.find_all(\"h3\")\n",
    "for item in blog_posts:\n",
    "    print(item.text.strip(\"\\n\"))\n"
   ]
  },
  {
   "cell_type": "code",
   "execution_count": null,
   "metadata": {},
   "outputs": [],
   "source": []
  }
 ],
 "metadata": {
  "interpreter": {
   "hash": "aee8b7b246df8f9039afb4144a1f6fd8d2ca17a180786b69acc140d282b71a49"
  },
  "kernelspec": {
   "display_name": "Python 3.9.5 64-bit",
   "language": "python",
   "name": "python3"
  },
  "language_info": {
   "codemirror_mode": {
    "name": "ipython",
    "version": 3
   },
   "file_extension": ".py",
   "mimetype": "text/x-python",
   "name": "python",
   "nbconvert_exporter": "python",
   "pygments_lexer": "ipython3",
   "version": "3.9.5"
  },
  "orig_nbformat": 4
 },
 "nbformat": 4,
 "nbformat_minor": 2
}
